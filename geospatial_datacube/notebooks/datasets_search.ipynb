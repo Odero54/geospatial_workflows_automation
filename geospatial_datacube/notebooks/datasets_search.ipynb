{
 "cells": [
  {
   "cell_type": "code",
   "execution_count": 1,
   "id": "6ff307fd-886a-4afd-bc8e-022e6e906636",
   "metadata": {},
   "outputs": [],
   "source": [
    "import planetary_computer\n",
    "import pystac_client\n",
    "import odc.stac\n",
    "import xarray as xr\n",
    "import rioxarray\n",
    "import geopandas as gpd\n",
    "from datetime import datetime\n",
    "import os\n",
    "\n",
    "# Define output directory\n",
    "output_dir = \"/home/george/geospatial_workflows_automation/geospatial_datacube/data\"\n",
    "os.makedirs(output_dir, exist_ok=True)"
   ]
  },
  {
   "cell_type": "code",
   "execution_count": 2,
   "id": "1c0cf0f6-2e12-4000-b789-03c95a47e152",
   "metadata": {},
   "outputs": [
    {
     "name": "stdout",
     "output_type": "stream",
     "text": [
      "temperature: Found 187 items in sentinel-3-slstr-lst-l2-netcdf\n",
      "precipitation: Found 0 items in terraclimate\n",
      "ndvi: Found 292 items in sentinel-2-l2a\n",
      "elevation: Found 0 items in cop-dem-glo-30\n",
      "sentinel_1: Found 102 items in sentinel-1-grd\n",
      "Fire: Found 865 items in sentinel-3-slstr-frp-l2-netcdf\n"
     ]
    }
   ],
   "source": [
    "import planetary_computer\n",
    "import pystac_client\n",
    "import xarray as xr\n",
    "\n",
    "# Connect to Planetary Computer STAC API\n",
    "catalog = pystac_client.Client.open(\n",
    "    \"https://planetarycomputer.microsoft.com/api/stac/v1\", \n",
    "    modifier=planetary_computer.sign_inplace,\n",
    ")\n",
    "\n",
    "# Define dataset collections\n",
    "collections = {\n",
    "    \"temperature\": \"sentinel-3-slstr-lst-l2-netcdf\",\n",
    "    \"precipitation\": \"terraclimate\",\n",
    "    \"ndvi\": \"sentinel-2-l2a\",\n",
    "    \"elevation\": \"cop-dem-glo-30\",\n",
    "    \"sentinel_1\": \"sentinel-1-grd\", \n",
    "    \"Fire\": \"sentinel-3-slstr-frp-l2-netcdf\"\n",
    "}\n",
    "\n",
    "# Define the time range\n",
    "time_range = \"2024-01-01/2024-12-31\"\n",
    "\n",
    "# Define area of interest (Modify with your actual bounding box)\n",
    "aoi = {\n",
    "    \"west\": 33.9, \"south\": 0.1, \"east\": 34.6, \"north\": 0.8  # Example for Busia, Kenya\n",
    "}\n",
    "\n",
    "# Query each dataset\n",
    "for name, collection in collections.items():\n",
    "    search = catalog.search(\n",
    "        collections=[collection],\n",
    "        datetime=time_range,\n",
    "        bbox=[aoi[\"west\"], aoi[\"south\"], aoi[\"east\"], aoi[\"north\"]]\n",
    "    )\n",
    "    items = list(search.item_collection())\n",
    "    print(f\"{name}: Found {len(items)} items in {collection}\")"
   ]
  },
  {
   "cell_type": "code",
   "execution_count": 3,
   "id": "d751cf88-4d7f-49f0-b4dd-e4ee43a1d432",
   "metadata": {},
   "outputs": [
    {
     "name": "stdout",
     "output_type": "stream",
     "text": [
      "<CollectionClient id=sentinel-2-pre-c1-l2a>\n",
      "<CollectionClient id=cop-dem-glo-30>\n",
      "<CollectionClient id=naip>\n",
      "<CollectionClient id=cop-dem-glo-90>\n",
      "<CollectionClient id=landsat-c2-l2>\n",
      "<CollectionClient id=sentinel-2-l2a>\n",
      "<CollectionClient id=sentinel-2-l1c>\n",
      "<CollectionClient id=sentinel-2-c1-l2a>\n",
      "<CollectionClient id=sentinel-1-grd>\n"
     ]
    }
   ],
   "source": [
    "api_url = 'https://earth-search.aws.element84.com/v1'\n",
    "client = pystac_client.Client.open(api_url)\n",
    "for collection in client.get_collections():\n",
    "    print(collection)"
   ]
  },
  {
   "cell_type": "code",
   "execution_count": 4,
   "id": "31ac3609-f5f4-4041-894c-eb6c0606fe94",
   "metadata": {},
   "outputs": [
    {
     "name": "stdout",
     "output_type": "stream",
     "text": [
      "Elevation: Found 2 items in cop-dem-glo-30\n"
     ]
    }
   ],
   "source": [
    "# Search Copernicus DEM (Elevation Data)\n",
    "dem_search = client.search(\n",
    "    collections=[\"cop-dem-glo-30\"],  # Global 30m resolution DEM \n",
    "    bbox=[aoi[\"west\"], aoi[\"south\"], aoi[\"east\"], aoi[\"north\"]],\n",
    ")\n",
    "\n",
    "# Convert search results to a list\n",
    "dem_items = list(dem_search.items())\n",
    "\n",
    "# Print number of DEM items found\n",
    "print(f\"Elevation: Found {len(dem_items)} items in cop-dem-glo-30\")"
   ]
  },
  {
   "cell_type": "code",
   "execution_count": 5,
   "id": "3ea81232-4007-4dc2-9caf-71c9dcc0b7e0",
   "metadata": {},
   "outputs": [
    {
     "name": "stdout",
     "output_type": "stream",
     "text": [
      "sentinel_1: Found 111 items in sentinel-1-grd\n",
      "ndvi: Found 295 items in sentinel-2-l2a\n",
      "Elevation: [<Item id=Copernicus_DSM_COG_10_N00_00_E034_00_DEM>, <Item id=Copernicus_DSM_COG_10_N00_00_E033_00_DEM>]\n"
     ]
    }
   ],
   "source": [
    "# Define dataset collections\n",
    "collections = {\n",
    "    \"sentinel_1\": \"sentinel-1-grd\",\n",
    "    # \"elevation\": \"cop-dem-glo-30\",\n",
    "    \"ndvi\": \"sentinel-2-l2a\"\n",
    "}\n",
    "\n",
    "# Define the time range\n",
    "time_range = \"2024-01-01/2024-12-31\"\n",
    "\n",
    "# Define area of interest (Modify with your actual bounding box)\n",
    "aoi = {\n",
    "    \"west\": 33.9, \"south\": 0.1, \"east\": 34.6, \"north\": 0.8  # Example for Busia, Kenya\n",
    "}\n",
    "\n",
    "# Query each dataset\n",
    "for name, collection in collections.items():\n",
    "    search = client.search(\n",
    "        collections=[collection],\n",
    "        datetime=time_range,\n",
    "        bbox=[aoi[\"west\"], aoi[\"south\"], aoi[\"east\"], aoi[\"north\"]]\n",
    "    )\n",
    "    items = list(search.item_collection())\n",
    "    print(f\"{name}: Found {len(items)} items in {collection}\")\n",
    "\n",
    "print(f\"Elevation: {dem_items}\")"
   ]
  },
  {
   "cell_type": "code",
   "execution_count": 6,
   "id": "62c08e3d-995c-4e5f-9cec-fd56c9512bad",
   "metadata": {},
   "outputs": [
    {
     "name": "stdout",
     "output_type": "stream",
     "text": [
      "Mean Elevation: {'elevation': 1250.3874471512086}\n"
     ]
    }
   ],
   "source": [
    "import ee\n",
    "\n",
    "# Authenticate and initialize Earth Engine\n",
    "ee.Authenticate()\n",
    "ee.Initialize()\n",
    "\n",
    "# Define Area of Interest (Busia, Kenya)\n",
    "aoi = ee.Geometry.BBox(33.9, 0.1, 34.6, 0.8)\n",
    "\n",
    "# Load the SRTM elevation dataset\n",
    "elevation = ee.Image(\"USGS/SRTMGL1_003\").clip(aoi)\n",
    "\n",
    "# Get elevation statistics\n",
    "stats = elevation.reduceRegion(\n",
    "    reducer=ee.Reducer.mean(),\n",
    "    geometry=aoi,\n",
    "    scale=30,\n",
    "    maxPixels=1e9\n",
    ")\n",
    "\n",
    "print(\"Mean Elevation:\", stats.getInfo())"
   ]
  },
  {
   "cell_type": "code",
   "execution_count": 7,
   "id": "ea1256df-7f89-462a-9ce5-41e84ab425b6",
   "metadata": {},
   "outputs": [
    {
     "name": "stdout",
     "output_type": "stream",
     "text": [
      "precipitation: Found 365 items in UCSB-CHG/CHIRPS/DAILY\n",
      "sentinel_2: Found 298 items in COPERNICUS/S2_SR_HARMONIZED\n",
      "sentinel_1: Found 111 items in COPERNICUS/S1_GRD\n"
     ]
    }
   ],
   "source": [
    "# Search for relevant datasets in GEE\n",
    "import ee\n",
    "import warnings\n",
    "warnings.simplefilter(\"ignore\", category=UserWarning)\n",
    "\n",
    "# Initialize GEE\n",
    "ee.Initialize()\n",
    "\n",
    "# Define datasets\n",
    "datasets = {\n",
    "    \"precipitation\": \"UCSB-CHG/CHIRPS/DAILY\",\n",
    "    \"sentinel_2\": \"COPERNICUS/S2_SR_HARMONIZED\",\n",
    "    \"sentinel_1\": \"COPERNICUS/S1_GRD\"\n",
    "}\n",
    "\n",
    "# Define AOI (Example: Busia, Kenya)\n",
    "aoi = ee.Geometry.Rectangle([33.9, 0.1, 34.6, 0.8])\n",
    "\n",
    "# Define date range\n",
    "start_date = \"2024-01-01\"\n",
    "end_date = \"2024-12-31\"\n",
    "\n",
    "# Search each dataset\n",
    "for name, dataset in datasets.items():\n",
    "    collection = ee.ImageCollection(dataset).filterDate(start_date, end_date).filterBounds(aoi)\n",
    "    count = collection.size().getInfo()\n",
    "    print(f\"{name}: Found {count} items in {dataset}\")"
   ]
  }
 ],
 "metadata": {
  "kernelspec": {
   "display_name": "Python (geospatial_venv)",
   "language": "python",
   "name": "geospatial_venv"
  },
  "language_info": {
   "codemirror_mode": {
    "name": "ipython",
    "version": 3
   },
   "file_extension": ".py",
   "mimetype": "text/x-python",
   "name": "python",
   "nbconvert_exporter": "python",
   "pygments_lexer": "ipython3",
   "version": "3.12.3"
  }
 },
 "nbformat": 4,
 "nbformat_minor": 5
}
