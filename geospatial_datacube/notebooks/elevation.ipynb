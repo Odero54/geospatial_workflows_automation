{
 "cells": [
  {
   "cell_type": "code",
   "execution_count": null,
   "id": "58455d7d-bdeb-40fb-9783-f1d7b7236013",
   "metadata": {},
   "outputs": [],
   "source": []
  }
 ],
 "metadata": {
  "kernelspec": {
   "display_name": "Python (geospatial_venv)",
   "language": "python",
   "name": "geospatial_venv"
  },
  "language_info": {
   "codemirror_mode": {
    "name": "ipython",
    "version": 3
   },
   "file_extension": ".py",
   "mimetype": "text/x-python",
   "name": "python",
   "nbconvert_exporter": "python",
   "pygments_lexer": "ipython3",
   "version": "3.12.3"
  }
 },
 "nbformat": 4,
 "nbformat_minor": 5
}
