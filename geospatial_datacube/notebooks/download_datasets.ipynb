{
 "cells": [
  {
   "cell_type": "code",
   "execution_count": 1,
   "id": "eedc10ab-b291-4ed5-adc9-b8bb444ed24c",
   "metadata": {},
   "outputs": [],
   "source": [
    "# Function to download and save raster\n",
    "def download_data(collection, band, filename):\n",
    "    query = catalog.search(\n",
    "        collections=[collection],\n",
    "        datetime=f\"{start_date}/{end_date}\",\n",
    "        intersects=aoi,\n",
    "    )\n",
    "\n",
    "    items = list(query.get_all_items())\n",
    "\n",
    "    if not items:\n",
    "        print(f\"No data found for {collection}\")\n",
    "        return\n",
    "\n",
    "    # Load the data\n",
    "    ds = odc.stac.load(\n",
    "        items,\n",
    "        bands=[band],\n",
    "        crs=\"EPSG:4326\",\n",
    "        resolution=(-0.0001, 0.0001),  # Adjust resolution if needed\n",
    "    )\n",
    "\n",
    "    # Save as GeoTIFF\n",
    "    filepath = os.path.join(output_dir, filename)\n",
    "    ds[band].rio.to_raster(filepath)\n",
    "    print(f\"Saved {collection} data to {filepath}\")\n",
    "\n",
    "# # Download datasets\n",
    "# download_data(\"sentinel-3-slstr-lst\", \"LST\", \"sentinel_3_lst.tif\")  # Temperature\n",
    "# download_data(\"sentinel-2-l2a\", \"NDVI\", \"sentinel_2_ndvi.tif\")  # NDVI\n",
    "# download_data(\"sentinel-1-grd\", \"VV\", \"sentinel_1_vv.tif\")  # Sentinel-1 VV\n",
    "# download_data(\"sentinel-1-grd\", \"VH\", \"sentinel_1_vh.tif\")  # Sentinel-1 VH\n",
    "# download_data(\"cop-dem-glo-30\", \"elevation\", \"elevation.tif\")  # Elevation\n",
    "# download_data(\"chirps\", \"precipitation\", \"precipitation.tif\")  # Precipitation"
   ]
  },
  {
   "cell_type": "code",
   "execution_count": null,
   "id": "a10a6fe0-56df-46fc-9c3a-6fa1c2748346",
   "metadata": {},
   "outputs": [],
   "source": []
  }
 ],
 "metadata": {
  "kernelspec": {
   "display_name": "Python (geospatial_venv)",
   "language": "python",
   "name": "geospatial_venv"
  },
  "language_info": {
   "codemirror_mode": {
    "name": "ipython",
    "version": 3
   },
   "file_extension": ".py",
   "mimetype": "text/x-python",
   "name": "python",
   "nbconvert_exporter": "python",
   "pygments_lexer": "ipython3",
   "version": "3.12.3"
  }
 },
 "nbformat": 4,
 "nbformat_minor": 5
}
